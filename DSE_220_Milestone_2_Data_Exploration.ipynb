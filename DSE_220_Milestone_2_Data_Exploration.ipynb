{
 "cells": [
  {
   "cell_type": "markdown",
   "metadata": {
    "id": "bpp3EpAIgSS2"
   },
   "source": [
    "# 4. Data Exploration"
   ]
  },
  {
   "cell_type": "markdown",
   "metadata": {
    "id": "HIxaaF6enUeo"
   },
   "source": [
    "## 4.1.\n",
    "**How many observations does your dataset have?**\n",
    "\n",
    "\n",
    "999,056 unique songs\n",
    "- There are 1,000,000 tracks along with various metadata. One such column is song_id. There are tracks with the same song_id due to slight audio differences, but since we do not care about that for now we drop these duplicates. After dropping there are 999,056 unique songs.\n",
    "\n",
    "280,831 songs have genre labels.\n",
    "\n",
    "48,373,586 mappings of users to songs with number of playthroughs."
   ]
  },
  {
   "cell_type": "code",
   "metadata": {
    "colab": {
     "base_uri": "https://localhost:8080/"
    },
    "id": "wRauZZcEgR-V",
    "outputId": "37891bac-0b1e-4c6c-c418-3e1a6bcfbd16",
    "ExecuteTime": {
     "end_time": "2025-10-27T01:58:32.616514Z",
     "start_time": "2025-10-27T01:58:32.393178Z"
    }
   },
   "source": [
    "import sqlite3\n",
    "\n",
    "import pandas as pd\n",
    "\n",
    "triplets_path = \"train_triplets.txt\"\n",
    "track_metadata_path = \"track_metadata.db\"\n",
    "genre_labels_path = \"msd_tagtraum_cd2.cls\""
   ],
   "outputs": [],
   "execution_count": 1
  },
  {
   "cell_type": "code",
   "metadata": {
    "id": "KvuUDF8TodyE",
    "ExecuteTime": {
     "end_time": "2025-10-27T01:58:35.602554Z",
     "start_time": "2025-10-27T01:58:32.620499Z"
    }
   },
   "source": [
    "track_metadata_conn = sqlite3.connect(track_metadata_path)\n",
    "track_metadata_sql_query = \"SELECT * FROM songs\"\n",
    "track_metadata_df = pd.read_sql_query(\n",
    "    track_metadata_sql_query,\n",
    "    track_metadata_conn\n",
    ").drop_duplicates(subset=['song_id'])\n",
    "track_metadata_conn.close()"
   ],
   "outputs": [],
   "execution_count": 2
  },
  {
   "cell_type": "code",
   "metadata": {
    "id": "WB3mfYNvopZh",
    "ExecuteTime": {
     "end_time": "2025-10-27T01:58:49.394476Z",
     "start_time": "2025-10-27T01:58:35.652674Z"
    }
   },
   "source": [
    "# 48,373,586 rows. Can select a smaller amount for testing by uncommenting code\n",
    "user_song_play_df = pd.read_csv(\n",
    "    triplets_path,\n",
    "    sep='\\t',\n",
    "    names=['user_id', 'song_id', 'plays'],\n",
    "    # nrows=500\n",
    ")"
   ],
   "outputs": [],
   "execution_count": 3
  },
  {
   "cell_type": "code",
   "source": [
    "genre_labels_df = pd.read_csv(genre_labels_path, sep='\\t', names=['track_id', 'majority_genre', 'minority_genre'],\n",
    "                              skiprows=7)"
   ],
   "metadata": {
    "id": "YMLeueHh4tsX",
    "ExecuteTime": {
     "end_time": "2025-10-27T01:58:49.510317Z",
     "start_time": "2025-10-27T01:58:49.412030Z"
    }
   },
   "outputs": [],
   "execution_count": 4
  },
  {
   "cell_type": "code",
   "source": [
    "track_metadata_with_genre_df = pd.merge(\n",
    "    track_metadata_df,\n",
    "    genre_labels_df,\n",
    "    on='track_id',\n",
    "    how='left'  # so we can keep all rows\n",
    ")"
   ],
   "metadata": {
    "id": "YHS_GcMF42Hk",
    "ExecuteTime": {
     "end_time": "2025-10-27T01:58:49.892481Z",
     "start_time": "2025-10-27T01:58:49.514502Z"
    }
   },
   "outputs": [],
   "execution_count": 5
  },
  {
   "cell_type": "code",
   "source": [
    "len(genre_labels_df)"
   ],
   "metadata": {
    "colab": {
     "base_uri": "https://localhost:8080/"
    },
    "id": "wdq3KZ3x6tlS",
    "outputId": "165f0842-d4cc-4c73-f51b-4731fd83515f",
    "ExecuteTime": {
     "end_time": "2025-10-27T01:58:49.902478Z",
     "start_time": "2025-10-27T01:58:49.898280Z"
    }
   },
   "outputs": [
    {
     "data": {
      "text/plain": [
       "280831"
      ]
     },
     "execution_count": 6,
     "metadata": {},
     "output_type": "execute_result"
    }
   ],
   "execution_count": 6
  },
  {
   "cell_type": "code",
   "metadata": {
    "colab": {
     "base_uri": "https://localhost:8080/"
    },
    "id": "zyExD2guzp79",
    "outputId": "c80aef5c-7f0a-490a-8d4d-2408d6082906",
    "ExecuteTime": {
     "end_time": "2025-10-27T01:58:49.910803Z",
     "start_time": "2025-10-27T01:58:49.908234Z"
    }
   },
   "source": [
    "len(track_metadata_df)"
   ],
   "outputs": [
    {
     "data": {
      "text/plain": [
       "999056"
      ]
     },
     "execution_count": 7,
     "metadata": {},
     "output_type": "execute_result"
    }
   ],
   "execution_count": 7
  },
  {
   "cell_type": "code",
   "metadata": {
    "colab": {
     "base_uri": "https://localhost:8080/"
    },
    "id": "XX_SEqq4zqAC",
    "outputId": "0acbd638-82cc-4df5-e182-094c41d84f4d",
    "ExecuteTime": {
     "end_time": "2025-10-27T01:58:49.919687Z",
     "start_time": "2025-10-27T01:58:49.916777Z"
    }
   },
   "source": [
    "len(user_song_play_df)"
   ],
   "outputs": [
    {
     "data": {
      "text/plain": [
       "48373586"
      ]
     },
     "execution_count": 8,
     "metadata": {},
     "output_type": "execute_result"
    }
   ],
   "execution_count": 8
  },
  {
   "cell_type": "code",
   "metadata": {
    "id": "cEUlhDOppAFM",
    "ExecuteTime": {
     "end_time": "2025-10-27T01:59:04.924474Z",
     "start_time": "2025-10-27T01:58:49.924239Z"
    }
   },
   "source": [
    "# Merge with the user information\n",
    "songs_df = pd.merge(user_song_play_df, track_metadata_with_genre_df, on='song_id')"
   ],
   "outputs": [],
   "execution_count": 9
  },
  {
   "cell_type": "code",
   "metadata": {
    "colab": {
     "base_uri": "https://localhost:8080/"
    },
    "id": "GUvDKq5epDES",
    "outputId": "6c4ab55e-22ff-4351-af2a-b6ac2540b46a",
    "ExecuteTime": {
     "end_time": "2025-10-27T01:59:04.946275Z",
     "start_time": "2025-10-27T01:59:04.943725Z"
    }
   },
   "source": [
    "len(songs_df)"
   ],
   "outputs": [
    {
     "data": {
      "text/plain": [
       "48373586"
      ]
     },
     "execution_count": 10,
     "metadata": {},
     "output_type": "execute_result"
    }
   ],
   "execution_count": 10
  },
  {
   "cell_type": "markdown",
   "source": [
    "## 4.2\n",
    "\n",
    "**Describe all columns in your dataset their scales and data distributions. Describe the categorical and continuous variables in your dataset. Describe your target column and if you are using images plot some example classes of the images.**\n",
    "\n",
    "\n",
    "- **user_id**: Unique identifier for the user (from triplets table).  \n",
    "- **song_id**: Echo Nest song ID. Multiple tracks can share the same song_id if they are different versions of the same song. However, we removed these duplicates from the track_metadata table.  \n",
    "- **plays**: Number of times the user played the song (from triplets table).  \n",
    "- **track_id**: The Echo Nest ID of this particular track on which the analysis was done. Unique identifier for each track within the Million Song Dataset.  \n",
    "- **title**: Title of the song.  \n",
    "- **release**: Release (album name) from which the track was taken.  \n",
    "- **artist_id**: Unique identifier for the artist. Matches the artist_id field in the track_metadata table and artist_term table.  \n",
    "- **artist_mbid**: MusicBrainz ID (MBID) for the artist.  \n",
    "- **artist_name**: Name of the artist.  \n",
    "- **duration**: Duration of the track in seconds.  \n",
    "- **artist_familiarity**: EchoNest numerical estimation of how familiar a song’s artist currently is to the world.  \n",
    "- **artist_hotttnesss**: EchoNest numerical estimation of how hottt a song’s artist currently is.  \n",
    "- **year**: The year the track was released according to MusicBrainz.  \n",
    "- **track_7digitalid**: Identifier linking the song to the 7digital online music catalog.  \n",
    "- **shs_perf**: Performance number on the SecondHandSongs website. Default value is -1.  \n",
    "- **shs_work**: Clique numbers from the SecondHandSongs train and test files. If the work is known by MillionSongs, then the number is positive.  \n",
    "- **majority_genre**: The most common or dominant genre associated with the artist or track (derived field).  \n",
    "- **minority_genre**: A secondary or less frequent genre associated with the artist or track (derived field).  \n",
    "\n",
    "\n",
    "Target column:\n",
    "*   Our goal is to cluster users together, which is unsupervised.\n",
    "*   So our entity of interest is \"user_id\"\n",
    "\n"
   ],
   "metadata": {
    "id": "M4m7VW3l82Q3"
   }
  },
  {
   "cell_type": "code",
   "source": [
    "songs_df.describe(include='all')"
   ],
   "metadata": {
    "colab": {
     "base_uri": "https://localhost:8080/",
     "height": 432
    },
    "id": "wboXdZugISp2",
    "outputId": "c1f48fc7-481c-4f80-f49a-965b24652426",
    "ExecuteTime": {
     "end_time": "2025-10-27T01:59:45.330285Z",
     "start_time": "2025-10-27T01:59:04.951775Z"
    }
   },
   "outputs": [
    {
     "data": {
      "text/plain": [
       "                                         user_id             song_id  \\\n",
       "count                                   48373586            48373586   \n",
       "unique                                   1019318              384546   \n",
       "top     ec6dfcf19485cb011e0b22637075037aae34cf26  SOFRQTD12A81C233C0   \n",
       "freq                                        4400              110479   \n",
       "mean                                         NaN                 NaN   \n",
       "std                                          NaN                 NaN   \n",
       "min                                          NaN                 NaN   \n",
       "25%                                          NaN                 NaN   \n",
       "50%                                          NaN                 NaN   \n",
       "75%                                          NaN                 NaN   \n",
       "max                                          NaN                 NaN   \n",
       "\n",
       "               plays            track_id          title        release  \\\n",
       "count   4.837359e+07            48373586       48373586       48373586   \n",
       "unique           NaN              384546         306841          81835   \n",
       "top              NaN  TRDMBIJ128F4290431  Sehr kosmisch  Greatest Hits   \n",
       "freq             NaN              110479         110479         294574   \n",
       "mean    2.866859e+00                 NaN            NaN            NaN   \n",
       "std     6.437725e+00                 NaN            NaN            NaN   \n",
       "min     1.000000e+00                 NaN            NaN            NaN   \n",
       "25%     1.000000e+00                 NaN            NaN            NaN   \n",
       "50%     1.000000e+00                 NaN            NaN            NaN   \n",
       "75%     3.000000e+00                 NaN            NaN            NaN   \n",
       "max     9.667000e+03                 NaN            NaN            NaN   \n",
       "\n",
       "                 artist_id artist_mbid artist_name      duration  \\\n",
       "count             48373586    48373586    48373586  4.837359e+07   \n",
       "unique               30543       28464       42055           NaN   \n",
       "top     ARJ7KF01187B98D717                Coldplay           NaN   \n",
       "freq                412421      618894      412421           NaN   \n",
       "mean                   NaN         NaN         NaN  2.485180e+02   \n",
       "std                    NaN         NaN         NaN  9.715339e+01   \n",
       "min                    NaN         NaN         NaN  5.220000e-01   \n",
       "25%                    NaN         NaN         NaN  1.984257e+02   \n",
       "50%                    NaN         NaN         NaN  2.338999e+02   \n",
       "75%                    NaN         NaN         NaN  2.782298e+02   \n",
       "max                    NaN         NaN         NaN  3.034906e+03   \n",
       "\n",
       "        artist_familiarity  artist_hotttnesss          year  track_7digitalid  \\\n",
       "count         4.837359e+07       4.837359e+07  4.837359e+07      4.837359e+07   \n",
       "unique                 NaN                NaN           NaN               NaN   \n",
       "top                    NaN                NaN           NaN               NaN   \n",
       "freq                   NaN                NaN           NaN               NaN   \n",
       "mean          7.283596e-01       5.435861e-01  1.605213e+03      3.445440e+06   \n",
       "std           1.316299e-01       1.438316e-01  7.965815e+02      2.686464e+06   \n",
       "min          -1.000000e+00       0.000000e+00  0.000000e+00     -1.000000e+00   \n",
       "25%           6.456383e-01       4.534857e-01  1.981000e+03      8.214540e+05   \n",
       "50%           7.508383e-01       5.304320e-01  2.001000e+03      3.159011e+06   \n",
       "75%           8.308846e-01       6.001319e-01  2.007000e+03      5.611643e+06   \n",
       "max           1.000000e+00       1.082503e+00  2.011000e+03      9.090644e+06   \n",
       "\n",
       "            shs_perf      shs_work majority_genre minority_genre  \n",
       "count   4.837359e+07  4.837359e+07       29864500        8265936  \n",
       "unique           NaN           NaN             15             15  \n",
       "top              NaN           NaN           Rock           Rock  \n",
       "freq             NaN           NaN       14743685        1955566  \n",
       "mean    1.899954e+03  1.415716e+03            NaN            NaN  \n",
       "std     1.206370e+04  9.614157e+03            NaN            NaN  \n",
       "min    -1.000000e+00 -9.350000e+02            NaN            NaN  \n",
       "25%    -1.000000e+00  0.000000e+00            NaN            NaN  \n",
       "50%    -1.000000e+00  0.000000e+00            NaN            NaN  \n",
       "75%    -1.000000e+00  0.000000e+00            NaN            NaN  \n",
       "max     1.510420e+05  1.172570e+05            NaN            NaN  "
      ],
      "text/html": [
       "<div>\n",
       "<style scoped>\n",
       "    .dataframe tbody tr th:only-of-type {\n",
       "        vertical-align: middle;\n",
       "    }\n",
       "\n",
       "    .dataframe tbody tr th {\n",
       "        vertical-align: top;\n",
       "    }\n",
       "\n",
       "    .dataframe thead th {\n",
       "        text-align: right;\n",
       "    }\n",
       "</style>\n",
       "<table border=\"1\" class=\"dataframe\">\n",
       "  <thead>\n",
       "    <tr style=\"text-align: right;\">\n",
       "      <th></th>\n",
       "      <th>user_id</th>\n",
       "      <th>song_id</th>\n",
       "      <th>plays</th>\n",
       "      <th>track_id</th>\n",
       "      <th>title</th>\n",
       "      <th>release</th>\n",
       "      <th>artist_id</th>\n",
       "      <th>artist_mbid</th>\n",
       "      <th>artist_name</th>\n",
       "      <th>duration</th>\n",
       "      <th>artist_familiarity</th>\n",
       "      <th>artist_hotttnesss</th>\n",
       "      <th>year</th>\n",
       "      <th>track_7digitalid</th>\n",
       "      <th>shs_perf</th>\n",
       "      <th>shs_work</th>\n",
       "      <th>majority_genre</th>\n",
       "      <th>minority_genre</th>\n",
       "    </tr>\n",
       "  </thead>\n",
       "  <tbody>\n",
       "    <tr>\n",
       "      <th>count</th>\n",
       "      <td>48373586</td>\n",
       "      <td>48373586</td>\n",
       "      <td>4.837359e+07</td>\n",
       "      <td>48373586</td>\n",
       "      <td>48373586</td>\n",
       "      <td>48373586</td>\n",
       "      <td>48373586</td>\n",
       "      <td>48373586</td>\n",
       "      <td>48373586</td>\n",
       "      <td>4.837359e+07</td>\n",
       "      <td>4.837359e+07</td>\n",
       "      <td>4.837359e+07</td>\n",
       "      <td>4.837359e+07</td>\n",
       "      <td>4.837359e+07</td>\n",
       "      <td>4.837359e+07</td>\n",
       "      <td>4.837359e+07</td>\n",
       "      <td>29864500</td>\n",
       "      <td>8265936</td>\n",
       "    </tr>\n",
       "    <tr>\n",
       "      <th>unique</th>\n",
       "      <td>1019318</td>\n",
       "      <td>384546</td>\n",
       "      <td>NaN</td>\n",
       "      <td>384546</td>\n",
       "      <td>306841</td>\n",
       "      <td>81835</td>\n",
       "      <td>30543</td>\n",
       "      <td>28464</td>\n",
       "      <td>42055</td>\n",
       "      <td>NaN</td>\n",
       "      <td>NaN</td>\n",
       "      <td>NaN</td>\n",
       "      <td>NaN</td>\n",
       "      <td>NaN</td>\n",
       "      <td>NaN</td>\n",
       "      <td>NaN</td>\n",
       "      <td>15</td>\n",
       "      <td>15</td>\n",
       "    </tr>\n",
       "    <tr>\n",
       "      <th>top</th>\n",
       "      <td>ec6dfcf19485cb011e0b22637075037aae34cf26</td>\n",
       "      <td>SOFRQTD12A81C233C0</td>\n",
       "      <td>NaN</td>\n",
       "      <td>TRDMBIJ128F4290431</td>\n",
       "      <td>Sehr kosmisch</td>\n",
       "      <td>Greatest Hits</td>\n",
       "      <td>ARJ7KF01187B98D717</td>\n",
       "      <td></td>\n",
       "      <td>Coldplay</td>\n",
       "      <td>NaN</td>\n",
       "      <td>NaN</td>\n",
       "      <td>NaN</td>\n",
       "      <td>NaN</td>\n",
       "      <td>NaN</td>\n",
       "      <td>NaN</td>\n",
       "      <td>NaN</td>\n",
       "      <td>Rock</td>\n",
       "      <td>Rock</td>\n",
       "    </tr>\n",
       "    <tr>\n",
       "      <th>freq</th>\n",
       "      <td>4400</td>\n",
       "      <td>110479</td>\n",
       "      <td>NaN</td>\n",
       "      <td>110479</td>\n",
       "      <td>110479</td>\n",
       "      <td>294574</td>\n",
       "      <td>412421</td>\n",
       "      <td>618894</td>\n",
       "      <td>412421</td>\n",
       "      <td>NaN</td>\n",
       "      <td>NaN</td>\n",
       "      <td>NaN</td>\n",
       "      <td>NaN</td>\n",
       "      <td>NaN</td>\n",
       "      <td>NaN</td>\n",
       "      <td>NaN</td>\n",
       "      <td>14743685</td>\n",
       "      <td>1955566</td>\n",
       "    </tr>\n",
       "    <tr>\n",
       "      <th>mean</th>\n",
       "      <td>NaN</td>\n",
       "      <td>NaN</td>\n",
       "      <td>2.866859e+00</td>\n",
       "      <td>NaN</td>\n",
       "      <td>NaN</td>\n",
       "      <td>NaN</td>\n",
       "      <td>NaN</td>\n",
       "      <td>NaN</td>\n",
       "      <td>NaN</td>\n",
       "      <td>2.485180e+02</td>\n",
       "      <td>7.283596e-01</td>\n",
       "      <td>5.435861e-01</td>\n",
       "      <td>1.605213e+03</td>\n",
       "      <td>3.445440e+06</td>\n",
       "      <td>1.899954e+03</td>\n",
       "      <td>1.415716e+03</td>\n",
       "      <td>NaN</td>\n",
       "      <td>NaN</td>\n",
       "    </tr>\n",
       "    <tr>\n",
       "      <th>std</th>\n",
       "      <td>NaN</td>\n",
       "      <td>NaN</td>\n",
       "      <td>6.437725e+00</td>\n",
       "      <td>NaN</td>\n",
       "      <td>NaN</td>\n",
       "      <td>NaN</td>\n",
       "      <td>NaN</td>\n",
       "      <td>NaN</td>\n",
       "      <td>NaN</td>\n",
       "      <td>9.715339e+01</td>\n",
       "      <td>1.316299e-01</td>\n",
       "      <td>1.438316e-01</td>\n",
       "      <td>7.965815e+02</td>\n",
       "      <td>2.686464e+06</td>\n",
       "      <td>1.206370e+04</td>\n",
       "      <td>9.614157e+03</td>\n",
       "      <td>NaN</td>\n",
       "      <td>NaN</td>\n",
       "    </tr>\n",
       "    <tr>\n",
       "      <th>min</th>\n",
       "      <td>NaN</td>\n",
       "      <td>NaN</td>\n",
       "      <td>1.000000e+00</td>\n",
       "      <td>NaN</td>\n",
       "      <td>NaN</td>\n",
       "      <td>NaN</td>\n",
       "      <td>NaN</td>\n",
       "      <td>NaN</td>\n",
       "      <td>NaN</td>\n",
       "      <td>5.220000e-01</td>\n",
       "      <td>-1.000000e+00</td>\n",
       "      <td>0.000000e+00</td>\n",
       "      <td>0.000000e+00</td>\n",
       "      <td>-1.000000e+00</td>\n",
       "      <td>-1.000000e+00</td>\n",
       "      <td>-9.350000e+02</td>\n",
       "      <td>NaN</td>\n",
       "      <td>NaN</td>\n",
       "    </tr>\n",
       "    <tr>\n",
       "      <th>25%</th>\n",
       "      <td>NaN</td>\n",
       "      <td>NaN</td>\n",
       "      <td>1.000000e+00</td>\n",
       "      <td>NaN</td>\n",
       "      <td>NaN</td>\n",
       "      <td>NaN</td>\n",
       "      <td>NaN</td>\n",
       "      <td>NaN</td>\n",
       "      <td>NaN</td>\n",
       "      <td>1.984257e+02</td>\n",
       "      <td>6.456383e-01</td>\n",
       "      <td>4.534857e-01</td>\n",
       "      <td>1.981000e+03</td>\n",
       "      <td>8.214540e+05</td>\n",
       "      <td>-1.000000e+00</td>\n",
       "      <td>0.000000e+00</td>\n",
       "      <td>NaN</td>\n",
       "      <td>NaN</td>\n",
       "    </tr>\n",
       "    <tr>\n",
       "      <th>50%</th>\n",
       "      <td>NaN</td>\n",
       "      <td>NaN</td>\n",
       "      <td>1.000000e+00</td>\n",
       "      <td>NaN</td>\n",
       "      <td>NaN</td>\n",
       "      <td>NaN</td>\n",
       "      <td>NaN</td>\n",
       "      <td>NaN</td>\n",
       "      <td>NaN</td>\n",
       "      <td>2.338999e+02</td>\n",
       "      <td>7.508383e-01</td>\n",
       "      <td>5.304320e-01</td>\n",
       "      <td>2.001000e+03</td>\n",
       "      <td>3.159011e+06</td>\n",
       "      <td>-1.000000e+00</td>\n",
       "      <td>0.000000e+00</td>\n",
       "      <td>NaN</td>\n",
       "      <td>NaN</td>\n",
       "    </tr>\n",
       "    <tr>\n",
       "      <th>75%</th>\n",
       "      <td>NaN</td>\n",
       "      <td>NaN</td>\n",
       "      <td>3.000000e+00</td>\n",
       "      <td>NaN</td>\n",
       "      <td>NaN</td>\n",
       "      <td>NaN</td>\n",
       "      <td>NaN</td>\n",
       "      <td>NaN</td>\n",
       "      <td>NaN</td>\n",
       "      <td>2.782298e+02</td>\n",
       "      <td>8.308846e-01</td>\n",
       "      <td>6.001319e-01</td>\n",
       "      <td>2.007000e+03</td>\n",
       "      <td>5.611643e+06</td>\n",
       "      <td>-1.000000e+00</td>\n",
       "      <td>0.000000e+00</td>\n",
       "      <td>NaN</td>\n",
       "      <td>NaN</td>\n",
       "    </tr>\n",
       "    <tr>\n",
       "      <th>max</th>\n",
       "      <td>NaN</td>\n",
       "      <td>NaN</td>\n",
       "      <td>9.667000e+03</td>\n",
       "      <td>NaN</td>\n",
       "      <td>NaN</td>\n",
       "      <td>NaN</td>\n",
       "      <td>NaN</td>\n",
       "      <td>NaN</td>\n",
       "      <td>NaN</td>\n",
       "      <td>3.034906e+03</td>\n",
       "      <td>1.000000e+00</td>\n",
       "      <td>1.082503e+00</td>\n",
       "      <td>2.011000e+03</td>\n",
       "      <td>9.090644e+06</td>\n",
       "      <td>1.510420e+05</td>\n",
       "      <td>1.172570e+05</td>\n",
       "      <td>NaN</td>\n",
       "      <td>NaN</td>\n",
       "    </tr>\n",
       "  </tbody>\n",
       "</table>\n",
       "</div>"
      ]
     },
     "execution_count": 11,
     "metadata": {},
     "output_type": "execute_result"
    }
   ],
   "execution_count": 11
  },
  {
   "cell_type": "code",
   "source": [
    "songs_df.info()"
   ],
   "metadata": {
    "colab": {
     "base_uri": "https://localhost:8080/"
    },
    "id": "6HhKQmLEIVgg",
    "outputId": "953f0c11-bfad-4ab0-a797-e1e379c43e57",
    "ExecuteTime": {
     "end_time": "2025-10-27T01:59:45.393705Z",
     "start_time": "2025-10-27T01:59:45.390119Z"
    }
   },
   "outputs": [
    {
     "name": "stdout",
     "output_type": "stream",
     "text": [
      "<class 'pandas.core.frame.DataFrame'>\n",
      "RangeIndex: 48373586 entries, 0 to 48373585\n",
      "Data columns (total 18 columns):\n",
      " #   Column              Dtype  \n",
      "---  ------              -----  \n",
      " 0   user_id             object \n",
      " 1   song_id             object \n",
      " 2   plays               int64  \n",
      " 3   track_id            object \n",
      " 4   title               object \n",
      " 5   release             object \n",
      " 6   artist_id           object \n",
      " 7   artist_mbid         object \n",
      " 8   artist_name         object \n",
      " 9   duration            float64\n",
      " 10  artist_familiarity  float64\n",
      " 11  artist_hotttnesss   float64\n",
      " 12  year                int64  \n",
      " 13  track_7digitalid    int64  \n",
      " 14  shs_perf            int64  \n",
      " 15  shs_work            int64  \n",
      " 16  majority_genre      object \n",
      " 17  minority_genre      object \n",
      "dtypes: float64(3), int64(5), object(10)\n",
      "memory usage: 6.5+ GB\n"
     ]
    }
   ],
   "execution_count": 12
  },
  {
   "cell_type": "markdown",
   "source": [
    "## 4.3\n",
    "**Do you have missing and duplicate values in your dataset?**\n",
    "\n",
    "Yes. As noted earlier we have missing values for genre, and we have duplicate songs. We have not decided what to do for the genre yet, but decided to drop the duplicate songs because we are not interested in the slight audio differences. Also dropping these duplicate songs makes it easier to map users with songs for counting purposes.\n",
    "\n"
   ],
   "metadata": {
    "id": "2awUH_fmGo2K"
   }
  }
 ],
 "metadata": {
  "colab": {
   "machine_shape": "hm",
   "provenance": []
  },
  "kernelspec": {
   "display_name": "Python 3 (ipykernel)",
   "name": "python3",
   "language": "python"
  },
  "language_info": {
   "name": "python"
  }
 },
 "nbformat": 4,
 "nbformat_minor": 0
}
