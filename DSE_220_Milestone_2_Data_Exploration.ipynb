{
 "cells": [
  {
   "cell_type": "markdown",
   "metadata": {
    "id": "bpp3EpAIgSS2"
   },
   "source": [
    "# 4. Data Exploration"
   ]
  },
  {
   "cell_type": "markdown",
   "metadata": {
    "id": "HIxaaF6enUeo"
   },
   "source": [
    "## 4.1.\n",
    "**How many observations does your dataset have?**\n",
    "\n",
    "\n",
    "999,056 unique songs\n",
    "- There are 1,000,000 tracks along with various metadata. One such column is song_id. There are tracks with the same song_id due to slight audio differences, but since we do not care about that for now we drop these duplicates. After dropping there are 999,056 unique songs.\n",
    "\n",
    "280,831 songs have genre labels.\n",
    "- There are 15 majority and 15 minority genres\n",
    "\n",
    "48,373,586 mappings of users to songs with number of playthroughs.\n",
    "- There are 1,019,318 unique users"
   ]
  },
  {
   "cell_type": "code",
   "metadata": {
    "colab": {
     "base_uri": "https://localhost:8080/"
    },
    "id": "wRauZZcEgR-V",
    "outputId": "37891bac-0b1e-4c6c-c418-3e1a6bcfbd16",
    "ExecuteTime": {
     "end_time": "2025-10-27T05:51:22.463929Z",
     "start_time": "2025-10-27T05:51:22.462123Z"
    }
   },
   "source": [
    "import sqlite3\n",
    "\n",
    "import pandas as pd\n",
    "\n",
    "triplets_path = \"train_triplets.txt\"\n",
    "track_metadata_path = \"track_metadata.db\"\n",
    "genre_labels_path = \"msd_tagtraum_cd2.cls\""
   ],
   "outputs": [],
   "execution_count": 1
  },
  {
   "cell_type": "code",
   "metadata": {
    "id": "KvuUDF8TodyE",
    "ExecuteTime": {
     "end_time": "2025-10-27T05:51:25.419401Z",
     "start_time": "2025-10-27T05:51:22.466808Z"
    }
   },
   "source": [
    "track_metadata_conn = sqlite3.connect(track_metadata_path)\n",
    "track_metadata_sql_query = \"SELECT * FROM songs\"\n",
    "track_metadata_df = pd.read_sql_query(\n",
    "    track_metadata_sql_query,\n",
    "    track_metadata_conn\n",
    ").drop_duplicates(subset=['song_id'])\n",
    "track_metadata_conn.close()"
   ],
   "outputs": [],
   "execution_count": 2
  },
  {
   "cell_type": "code",
   "metadata": {
    "id": "WB3mfYNvopZh",
    "ExecuteTime": {
     "end_time": "2025-10-27T05:51:37.898445Z",
     "start_time": "2025-10-27T05:51:25.468264Z"
    }
   },
   "source": [
    "# 48,373,586 rows. Can select a smaller amount for testing by uncommenting code\n",
    "user_song_play_df = pd.read_csv(\n",
    "    triplets_path,\n",
    "    sep='\\t',\n",
    "    names=['user_id', 'song_id', 'plays'],\n",
    "    # nrows=500\n",
    ")"
   ],
   "outputs": [],
   "execution_count": 3
  },
  {
   "cell_type": "code",
   "source": [
    "genre_labels_df = pd.read_csv(\n",
    "    genre_labels_path,\n",
    "    sep='\\t',\n",
    "    names=['track_id', 'majority_genre', 'minority_genre'],\n",
    "    skiprows=7\n",
    ")"
   ],
   "metadata": {
    "id": "YMLeueHh4tsX",
    "ExecuteTime": {
     "end_time": "2025-10-27T05:51:37.991908Z",
     "start_time": "2025-10-27T05:51:37.911987Z"
    }
   },
   "outputs": [],
   "execution_count": 4
  },
  {
   "cell_type": "code",
   "source": [
    "track_metadata_with_genre_df = pd.merge(\n",
    "    track_metadata_df,\n",
    "    genre_labels_df,\n",
    "    on='track_id',\n",
    "    how='left'  # so we can keep all rows\n",
    ")"
   ],
   "metadata": {
    "id": "YHS_GcMF42Hk",
    "ExecuteTime": {
     "end_time": "2025-10-27T05:51:38.354659Z",
     "start_time": "2025-10-27T05:51:37.995538Z"
    }
   },
   "outputs": [],
   "execution_count": 5
  },
  {
   "cell_type": "code",
   "source": [
    "len(genre_labels_df)"
   ],
   "metadata": {
    "colab": {
     "base_uri": "https://localhost:8080/"
    },
    "id": "wdq3KZ3x6tlS",
    "outputId": "165f0842-d4cc-4c73-f51b-4731fd83515f",
    "ExecuteTime": {
     "end_time": "2025-10-27T05:51:38.363634Z",
     "start_time": "2025-10-27T05:51:38.360102Z"
    }
   },
   "outputs": [
    {
     "data": {
      "text/plain": [
       "280831"
      ]
     },
     "execution_count": 6,
     "metadata": {},
     "output_type": "execute_result"
    }
   ],
   "execution_count": 6
  },
  {
   "metadata": {
    "ExecuteTime": {
     "end_time": "2025-10-27T05:51:38.381832Z",
     "start_time": "2025-10-27T05:51:38.369180Z"
    }
   },
   "cell_type": "code",
   "source": [
    "print(\"Number of unique majority genres:\", genre_labels_df['majority_genre'].nunique())\n",
    "print(\"Number of unique minority genres:\", genre_labels_df['minority_genre'].nunique())"
   ],
   "outputs": [
    {
     "name": "stdout",
     "output_type": "stream",
     "text": [
      "Number of unique majority genres: 15\n",
      "Number of unique minority genres: 15\n"
     ]
    }
   ],
   "execution_count": 7
  },
  {
   "cell_type": "code",
   "metadata": {
    "colab": {
     "base_uri": "https://localhost:8080/"
    },
    "id": "zyExD2guzp79",
    "outputId": "c80aef5c-7f0a-490a-8d4d-2408d6082906",
    "ExecuteTime": {
     "end_time": "2025-10-27T05:51:38.391952Z",
     "start_time": "2025-10-27T05:51:38.389669Z"
    }
   },
   "source": [
    "len(track_metadata_df)"
   ],
   "outputs": [
    {
     "data": {
      "text/plain": [
       "999056"
      ]
     },
     "execution_count": 8,
     "metadata": {},
     "output_type": "execute_result"
    }
   ],
   "execution_count": 8
  },
  {
   "cell_type": "code",
   "metadata": {
    "colab": {
     "base_uri": "https://localhost:8080/"
    },
    "id": "XX_SEqq4zqAC",
    "outputId": "0acbd638-82cc-4df5-e182-094c41d84f4d",
    "ExecuteTime": {
     "end_time": "2025-10-27T05:51:38.399477Z",
     "start_time": "2025-10-27T05:51:38.396940Z"
    }
   },
   "source": [
    "len(user_song_play_df)"
   ],
   "outputs": [
    {
     "data": {
      "text/plain": [
       "48373586"
      ]
     },
     "execution_count": 9,
     "metadata": {},
     "output_type": "execute_result"
    }
   ],
   "execution_count": 9
  },
  {
   "metadata": {
    "ExecuteTime": {
     "end_time": "2025-10-27T05:51:41.562126Z",
     "start_time": "2025-10-27T05:51:38.403894Z"
    }
   },
   "cell_type": "code",
   "source": "print(\"Number of unique users:\", user_song_play_df['user_id'].nunique())",
   "outputs": [
    {
     "name": "stdout",
     "output_type": "stream",
     "text": [
      "Number of unique users: 1019318\n"
     ]
    }
   ],
   "execution_count": 10
  },
  {
   "cell_type": "code",
   "metadata": {
    "id": "cEUlhDOppAFM",
    "ExecuteTime": {
     "end_time": "2025-10-27T05:51:56.422728Z",
     "start_time": "2025-10-27T05:51:41.578368Z"
    }
   },
   "source": [
    "# Merge with the user information\n",
    "songs_df = pd.merge(user_song_play_df, track_metadata_with_genre_df, on='song_id')"
   ],
   "outputs": [],
   "execution_count": 11
  },
  {
   "cell_type": "code",
   "metadata": {
    "colab": {
     "base_uri": "https://localhost:8080/"
    },
    "id": "GUvDKq5epDES",
    "outputId": "6c4ab55e-22ff-4351-af2a-b6ac2540b46a",
    "ExecuteTime": {
     "end_time": "2025-10-27T05:51:56.446686Z",
     "start_time": "2025-10-27T05:51:56.444310Z"
    }
   },
   "source": [
    "len(songs_df)"
   ],
   "outputs": [
    {
     "data": {
      "text/plain": [
       "48373586"
      ]
     },
     "execution_count": 12,
     "metadata": {},
     "output_type": "execute_result"
    }
   ],
   "execution_count": 12
  },
  {
   "cell_type": "markdown",
   "source": [
    "## 4.2\n",
    "\n",
    "**Describe all columns in your dataset their scales and data distributions. Describe the categorical and continuous variables in your dataset. Describe your target column and if you are using images plot some example classes of the images.**\n",
    "\n",
    "\n",
    "- **user_id**: Unique identifier for the user (from triplets table).  \n",
    "- **song_id**: Echo Nest song ID. Multiple tracks can share the same song_id if they are different versions of the same song. However, we removed these duplicates from the track_metadata table.  \n",
    "- **plays**: Number of times the user played the song (from triplets table).  \n",
    "- **track_id**: The Echo Nest ID of this particular track on which the analysis was done. Unique identifier for each track within the Million Song Dataset.  \n",
    "- **title**: Title of the song.  \n",
    "- **release**: Release (album name) from which the track was taken.  \n",
    "- **artist_id**: Unique identifier for the artist. Matches the artist_id field in the track_metadata table and artist_term table.  \n",
    "- **artist_mbid**: MusicBrainz ID (MBID) for the artist.  \n",
    "- **artist_name**: Name of the artist.  \n",
    "- **duration**: Duration of the track in seconds.  \n",
    "- **artist_familiarity**: EchoNest numerical estimation of how familiar a song’s artist currently is to the world.  \n",
    "- **artist_hotttnesss**: EchoNest numerical estimation of how hottt a song’s artist currently is.  \n",
    "- **year**: The year the track was released according to MusicBrainz.  \n",
    "- **track_7digitalid**: Identifier linking the song to the 7digital online music catalog.  \n",
    "- **shs_perf**: Performance number on the SecondHandSongs website. Default value is -1.  \n",
    "- **shs_work**: Clique numbers from the SecondHandSongs train and test files. If the work is known by MillionSongs, then the number is positive.  \n",
    "- **majority_genre**: The most common or dominant genre associated with the artist or track (derived field).  \n",
    "- **minority_genre**: A secondary or less frequent genre associated with the artist or track (derived field).  \n",
    "\n",
    "\n",
    "Target column:\n",
    "*   Our goal is to cluster users together, which is unsupervised.\n",
    "*   So our entity of interest is \"user_id\"\n",
    "\n"
   ],
   "metadata": {
    "id": "M4m7VW3l82Q3"
   }
  },
  {
   "metadata": {
    "ExecuteTime": {
     "end_time": "2025-10-27T05:52:01.888679Z",
     "start_time": "2025-10-27T05:51:56.454106Z"
    }
   },
   "cell_type": "code",
   "source": "songs_df.describe()",
   "outputs": [
    {
     "data": {
      "text/plain": [
       "              plays      duration  artist_familiarity  artist_hotttnesss  \\\n",
       "count  4.837359e+07  4.837359e+07        4.837359e+07       4.837359e+07   \n",
       "mean   2.866859e+00  2.485180e+02        7.283596e-01       5.435861e-01   \n",
       "std    6.437725e+00  9.715339e+01        1.316299e-01       1.438316e-01   \n",
       "min    1.000000e+00  5.220000e-01       -1.000000e+00       0.000000e+00   \n",
       "25%    1.000000e+00  1.984257e+02        6.456383e-01       4.534857e-01   \n",
       "50%    1.000000e+00  2.338999e+02        7.508383e-01       5.304320e-01   \n",
       "75%    3.000000e+00  2.782298e+02        8.308846e-01       6.001319e-01   \n",
       "max    9.667000e+03  3.034906e+03        1.000000e+00       1.082503e+00   \n",
       "\n",
       "               year  track_7digitalid      shs_perf      shs_work  \n",
       "count  4.837359e+07      4.837359e+07  4.837359e+07  4.837359e+07  \n",
       "mean   1.605213e+03      3.445440e+06  1.899954e+03  1.415716e+03  \n",
       "std    7.965815e+02      2.686464e+06  1.206370e+04  9.614157e+03  \n",
       "min    0.000000e+00     -1.000000e+00 -1.000000e+00 -9.350000e+02  \n",
       "25%    1.981000e+03      8.214540e+05 -1.000000e+00  0.000000e+00  \n",
       "50%    2.001000e+03      3.159011e+06 -1.000000e+00  0.000000e+00  \n",
       "75%    2.007000e+03      5.611643e+06 -1.000000e+00  0.000000e+00  \n",
       "max    2.011000e+03      9.090644e+06  1.510420e+05  1.172570e+05  "
      ],
      "text/html": [
       "<div>\n",
       "<style scoped>\n",
       "    .dataframe tbody tr th:only-of-type {\n",
       "        vertical-align: middle;\n",
       "    }\n",
       "\n",
       "    .dataframe tbody tr th {\n",
       "        vertical-align: top;\n",
       "    }\n",
       "\n",
       "    .dataframe thead th {\n",
       "        text-align: right;\n",
       "    }\n",
       "</style>\n",
       "<table border=\"1\" class=\"dataframe\">\n",
       "  <thead>\n",
       "    <tr style=\"text-align: right;\">\n",
       "      <th></th>\n",
       "      <th>plays</th>\n",
       "      <th>duration</th>\n",
       "      <th>artist_familiarity</th>\n",
       "      <th>artist_hotttnesss</th>\n",
       "      <th>year</th>\n",
       "      <th>track_7digitalid</th>\n",
       "      <th>shs_perf</th>\n",
       "      <th>shs_work</th>\n",
       "    </tr>\n",
       "  </thead>\n",
       "  <tbody>\n",
       "    <tr>\n",
       "      <th>count</th>\n",
       "      <td>4.837359e+07</td>\n",
       "      <td>4.837359e+07</td>\n",
       "      <td>4.837359e+07</td>\n",
       "      <td>4.837359e+07</td>\n",
       "      <td>4.837359e+07</td>\n",
       "      <td>4.837359e+07</td>\n",
       "      <td>4.837359e+07</td>\n",
       "      <td>4.837359e+07</td>\n",
       "    </tr>\n",
       "    <tr>\n",
       "      <th>mean</th>\n",
       "      <td>2.866859e+00</td>\n",
       "      <td>2.485180e+02</td>\n",
       "      <td>7.283596e-01</td>\n",
       "      <td>5.435861e-01</td>\n",
       "      <td>1.605213e+03</td>\n",
       "      <td>3.445440e+06</td>\n",
       "      <td>1.899954e+03</td>\n",
       "      <td>1.415716e+03</td>\n",
       "    </tr>\n",
       "    <tr>\n",
       "      <th>std</th>\n",
       "      <td>6.437725e+00</td>\n",
       "      <td>9.715339e+01</td>\n",
       "      <td>1.316299e-01</td>\n",
       "      <td>1.438316e-01</td>\n",
       "      <td>7.965815e+02</td>\n",
       "      <td>2.686464e+06</td>\n",
       "      <td>1.206370e+04</td>\n",
       "      <td>9.614157e+03</td>\n",
       "    </tr>\n",
       "    <tr>\n",
       "      <th>min</th>\n",
       "      <td>1.000000e+00</td>\n",
       "      <td>5.220000e-01</td>\n",
       "      <td>-1.000000e+00</td>\n",
       "      <td>0.000000e+00</td>\n",
       "      <td>0.000000e+00</td>\n",
       "      <td>-1.000000e+00</td>\n",
       "      <td>-1.000000e+00</td>\n",
       "      <td>-9.350000e+02</td>\n",
       "    </tr>\n",
       "    <tr>\n",
       "      <th>25%</th>\n",
       "      <td>1.000000e+00</td>\n",
       "      <td>1.984257e+02</td>\n",
       "      <td>6.456383e-01</td>\n",
       "      <td>4.534857e-01</td>\n",
       "      <td>1.981000e+03</td>\n",
       "      <td>8.214540e+05</td>\n",
       "      <td>-1.000000e+00</td>\n",
       "      <td>0.000000e+00</td>\n",
       "    </tr>\n",
       "    <tr>\n",
       "      <th>50%</th>\n",
       "      <td>1.000000e+00</td>\n",
       "      <td>2.338999e+02</td>\n",
       "      <td>7.508383e-01</td>\n",
       "      <td>5.304320e-01</td>\n",
       "      <td>2.001000e+03</td>\n",
       "      <td>3.159011e+06</td>\n",
       "      <td>-1.000000e+00</td>\n",
       "      <td>0.000000e+00</td>\n",
       "    </tr>\n",
       "    <tr>\n",
       "      <th>75%</th>\n",
       "      <td>3.000000e+00</td>\n",
       "      <td>2.782298e+02</td>\n",
       "      <td>8.308846e-01</td>\n",
       "      <td>6.001319e-01</td>\n",
       "      <td>2.007000e+03</td>\n",
       "      <td>5.611643e+06</td>\n",
       "      <td>-1.000000e+00</td>\n",
       "      <td>0.000000e+00</td>\n",
       "    </tr>\n",
       "    <tr>\n",
       "      <th>max</th>\n",
       "      <td>9.667000e+03</td>\n",
       "      <td>3.034906e+03</td>\n",
       "      <td>1.000000e+00</td>\n",
       "      <td>1.082503e+00</td>\n",
       "      <td>2.011000e+03</td>\n",
       "      <td>9.090644e+06</td>\n",
       "      <td>1.510420e+05</td>\n",
       "      <td>1.172570e+05</td>\n",
       "    </tr>\n",
       "  </tbody>\n",
       "</table>\n",
       "</div>"
      ]
     },
     "execution_count": 13,
     "metadata": {},
     "output_type": "execute_result"
    }
   ],
   "execution_count": 13
  },
  {
   "cell_type": "code",
   "source": "songs_df.describe(include=['object', 'category'])",
   "metadata": {
    "colab": {
     "base_uri": "https://localhost:8080/",
     "height": 432
    },
    "id": "wboXdZugISp2",
    "outputId": "c1f48fc7-481c-4f80-f49a-965b24652426",
    "ExecuteTime": {
     "end_time": "2025-10-27T05:52:43.560898Z",
     "start_time": "2025-10-27T05:52:01.958007Z"
    }
   },
   "outputs": [
    {
     "data": {
      "text/plain": [
       "                                         user_id             song_id  \\\n",
       "count                                   48373586            48373586   \n",
       "unique                                   1019318              384546   \n",
       "top     ec6dfcf19485cb011e0b22637075037aae34cf26  SOFRQTD12A81C233C0   \n",
       "freq                                        4400              110479   \n",
       "\n",
       "                  track_id          title        release           artist_id  \\\n",
       "count             48373586       48373586       48373586            48373586   \n",
       "unique              384546         306841          81835               30543   \n",
       "top     TRDMBIJ128F4290431  Sehr kosmisch  Greatest Hits  ARJ7KF01187B98D717   \n",
       "freq                110479         110479         294574              412421   \n",
       "\n",
       "       artist_mbid artist_name majority_genre minority_genre  \n",
       "count     48373586    48373586       29864500        8265936  \n",
       "unique       28464       42055             15             15  \n",
       "top                   Coldplay           Rock           Rock  \n",
       "freq        618894      412421       14743685        1955566  "
      ],
      "text/html": [
       "<div>\n",
       "<style scoped>\n",
       "    .dataframe tbody tr th:only-of-type {\n",
       "        vertical-align: middle;\n",
       "    }\n",
       "\n",
       "    .dataframe tbody tr th {\n",
       "        vertical-align: top;\n",
       "    }\n",
       "\n",
       "    .dataframe thead th {\n",
       "        text-align: right;\n",
       "    }\n",
       "</style>\n",
       "<table border=\"1\" class=\"dataframe\">\n",
       "  <thead>\n",
       "    <tr style=\"text-align: right;\">\n",
       "      <th></th>\n",
       "      <th>user_id</th>\n",
       "      <th>song_id</th>\n",
       "      <th>track_id</th>\n",
       "      <th>title</th>\n",
       "      <th>release</th>\n",
       "      <th>artist_id</th>\n",
       "      <th>artist_mbid</th>\n",
       "      <th>artist_name</th>\n",
       "      <th>majority_genre</th>\n",
       "      <th>minority_genre</th>\n",
       "    </tr>\n",
       "  </thead>\n",
       "  <tbody>\n",
       "    <tr>\n",
       "      <th>count</th>\n",
       "      <td>48373586</td>\n",
       "      <td>48373586</td>\n",
       "      <td>48373586</td>\n",
       "      <td>48373586</td>\n",
       "      <td>48373586</td>\n",
       "      <td>48373586</td>\n",
       "      <td>48373586</td>\n",
       "      <td>48373586</td>\n",
       "      <td>29864500</td>\n",
       "      <td>8265936</td>\n",
       "    </tr>\n",
       "    <tr>\n",
       "      <th>unique</th>\n",
       "      <td>1019318</td>\n",
       "      <td>384546</td>\n",
       "      <td>384546</td>\n",
       "      <td>306841</td>\n",
       "      <td>81835</td>\n",
       "      <td>30543</td>\n",
       "      <td>28464</td>\n",
       "      <td>42055</td>\n",
       "      <td>15</td>\n",
       "      <td>15</td>\n",
       "    </tr>\n",
       "    <tr>\n",
       "      <th>top</th>\n",
       "      <td>ec6dfcf19485cb011e0b22637075037aae34cf26</td>\n",
       "      <td>SOFRQTD12A81C233C0</td>\n",
       "      <td>TRDMBIJ128F4290431</td>\n",
       "      <td>Sehr kosmisch</td>\n",
       "      <td>Greatest Hits</td>\n",
       "      <td>ARJ7KF01187B98D717</td>\n",
       "      <td></td>\n",
       "      <td>Coldplay</td>\n",
       "      <td>Rock</td>\n",
       "      <td>Rock</td>\n",
       "    </tr>\n",
       "    <tr>\n",
       "      <th>freq</th>\n",
       "      <td>4400</td>\n",
       "      <td>110479</td>\n",
       "      <td>110479</td>\n",
       "      <td>110479</td>\n",
       "      <td>294574</td>\n",
       "      <td>412421</td>\n",
       "      <td>618894</td>\n",
       "      <td>412421</td>\n",
       "      <td>14743685</td>\n",
       "      <td>1955566</td>\n",
       "    </tr>\n",
       "  </tbody>\n",
       "</table>\n",
       "</div>"
      ]
     },
     "execution_count": 14,
     "metadata": {},
     "output_type": "execute_result"
    }
   ],
   "execution_count": 14
  },
  {
   "cell_type": "code",
   "source": [
    "songs_df.info()"
   ],
   "metadata": {
    "colab": {
     "base_uri": "https://localhost:8080/"
    },
    "id": "6HhKQmLEIVgg",
    "outputId": "953f0c11-bfad-4ab0-a797-e1e379c43e57",
    "ExecuteTime": {
     "end_time": "2025-10-27T05:52:43.639655Z",
     "start_time": "2025-10-27T05:52:43.634919Z"
    }
   },
   "outputs": [
    {
     "name": "stdout",
     "output_type": "stream",
     "text": [
      "<class 'pandas.core.frame.DataFrame'>\n",
      "RangeIndex: 48373586 entries, 0 to 48373585\n",
      "Data columns (total 18 columns):\n",
      " #   Column              Dtype  \n",
      "---  ------              -----  \n",
      " 0   user_id             object \n",
      " 1   song_id             object \n",
      " 2   plays               int64  \n",
      " 3   track_id            object \n",
      " 4   title               object \n",
      " 5   release             object \n",
      " 6   artist_id           object \n",
      " 7   artist_mbid         object \n",
      " 8   artist_name         object \n",
      " 9   duration            float64\n",
      " 10  artist_familiarity  float64\n",
      " 11  artist_hotttnesss   float64\n",
      " 12  year                int64  \n",
      " 13  track_7digitalid    int64  \n",
      " 14  shs_perf            int64  \n",
      " 15  shs_work            int64  \n",
      " 16  majority_genre      object \n",
      " 17  minority_genre      object \n",
      "dtypes: float64(3), int64(5), object(10)\n",
      "memory usage: 6.5+ GB\n"
     ]
    }
   ],
   "execution_count": 15
  },
  {
   "cell_type": "markdown",
   "source": [
    "## 4.3\n",
    "**Do you have missing and duplicate values in your dataset?**\n",
    "\n",
    "Yes. As noted earlier we have missing values for genre, and we have duplicate songs. We have not decided what to do for the genre yet, but decided to drop the duplicate songs because we are not interested in the slight audio differences. Also dropping these duplicate songs makes it easier to map users with songs for counting purposes.\n",
    "\n",
    "For the genre, possible future preprocessing options include: building the model without the genres and then augmenting parts of the data with genres to look for niche clusters, scraping the internet for genre related information, augmenting the dataset with songlyrics and using music related to libraries to guess genre or simply dropping it if it turns out it isn't needed.\n",
    "\n",
    "Half the year values are missing but we know the album names for the songs and the artist names. All songs in an album by an artist can be assumed to have the same release year. We can fill in the values using other songs in the same album or we could scrape the internet or use an LLM to get those values."
   ],
   "metadata": {
    "id": "2awUH_fmGo2K"
   }
  }
 ],
 "metadata": {
  "colab": {
   "machine_shape": "hm",
   "provenance": []
  },
  "kernelspec": {
   "display_name": "Python 3 (ipykernel)",
   "name": "python3",
   "language": "python"
  },
  "language_info": {
   "name": "python"
  }
 },
 "nbformat": 4,
 "nbformat_minor": 0
}
